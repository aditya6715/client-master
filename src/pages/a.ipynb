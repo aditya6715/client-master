{
 "cells": [
  {
   "cell_type": "code",
   "execution_count": null,
   "metadata": {},
   "outputs": [
    {
     "ename": "",
     "evalue": "",
     "output_type": "error",
     "traceback": [
      "\u001b[1;31mRunning cells with 'Python 3.13.0' requires the ipykernel package.\n",
      "\u001b[1;31mRun the following command to install 'ipykernel' into the Python environment. \n",
      "\u001b[1;31mCommand: '/opt/homebrew/bin/python3 -m pip install ipykernel -U --user --force-reinstall'"
     ]
    }
   ],
   "source": [
    "import cv2\n",
    "import numpy as np\n",
    "import matplotlib.pyplot as plt\n",
    "\n",
    "# Load images\n",
    "image_a = cv2.imread('image_a.jpg', cv2.IMREAD_GRAYSCALE)\n",
    "image_b = cv2.imread('image_b.jpg', cv2.IMREAD_GRAYSCALE)\n",
    "\n",
    "# Check if images are loaded\n",
    "if image_a is None or image_b is None:\n",
    "    raise ValueError(\"Error loading images. Check file paths.\")\n",
    "\n",
    "# Resize images to the same shape if necessary\n",
    "if image_a.shape != image_b.shape:\n",
    "    image_b = cv2.resize(image_b, (image_a.shape[1], image_a.shape[0]))\n",
    "\n",
    "# Perform repetitive subtraction\n",
    "for epoch in range(20):\n",
    "    image_a = cv2.subtract(image_a, image_b)\n",
    "    \n",
    "    # Display the image\n",
    "    plt.imshow(image_a, cmap='gray')\n",
    "    plt.title(f'Epoch {epoch + 1}')\n",
    "    plt.axis('off')\n",
    "    plt.show()\n"
   ]
  }
 ],
 "metadata": {
  "kernelspec": {
   "display_name": "Python 3",
   "language": "python",
   "name": "python3"
  },
  "language_info": {
   "name": "python",
   "version": "3.13.0"
  }
 },
 "nbformat": 4,
 "nbformat_minor": 2
}
